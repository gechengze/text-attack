{
 "cells": [
  {
   "cell_type": "markdown",
   "id": "57bd1401",
   "metadata": {},
   "source": [
    "## 1. 使用TextFooler攻击bert-base-uncased-imdb"
   ]
  },
  {
   "cell_type": "code",
   "execution_count": 1,
   "id": "23138b44",
   "metadata": {},
   "outputs": [
    {
     "name": "stderr",
     "output_type": "stream",
     "text": [
      "/home/gechengze/anaconda3/envs/TextAttack/lib/python3.9/site-packages/tqdm/auto.py:22: TqdmWarning: IProgress not found. Please update jupyter and ipywidgets. See https://ipywidgets.readthedocs.io/en/stable/user_install.html\n",
      "  from .autonotebook import tqdm as notebook_tqdm\n",
      "Reusing dataset imdb (/home/gechengze/.cache/huggingface/datasets/imdb/plain_text/1.0.0/e3c66f1788a67a89c7058d97ff62b6c30531e05b549de56d3ab91891f0561f9a)\n",
      "100%|██████████| 3/3 [00:00<00:00, 1415.88it/s]\n",
      "textattack: Loading \u001b[94mdatasets\u001b[0m dataset \u001b[94mimdb\u001b[0m, split \u001b[94mtest\u001b[0m.\n",
      "textattack: Unknown if model of class <class 'transformers.models.bert.modeling_bert.BertForSequenceClassification'> compatible with goal function <class 'textattack.goal_functions.classification.untargeted_classification.UntargetedClassification'>.\n",
      "textattack: Logging to CSV at path textfooler-bert-imdb.csv\n"
     ]
    },
    {
     "name": "stdout",
     "output_type": "stream",
     "text": [
      "Attack(\n",
      "  (search_method): GreedyWordSwapWIR(\n",
      "    (wir_method):  delete\n",
      "  )\n",
      "  (goal_function):  UntargetedClassification\n",
      "  (transformation):  WordSwapEmbedding(\n",
      "    (max_candidates):  50\n",
      "    (embedding):  WordEmbedding\n",
      "  )\n",
      "  (constraints): \n",
      "    (0): WordEmbeddingDistance(\n",
      "        (embedding):  WordEmbedding\n",
      "        (min_cos_sim):  0.5\n",
      "        (cased):  False\n",
      "        (include_unknown_words):  True\n",
      "        (compare_against_original):  True\n",
      "      )\n",
      "    (1): PartOfSpeech(\n",
      "        (tagger_type):  nltk\n",
      "        (tagset):  universal\n",
      "        (allow_verb_noun_swap):  True\n",
      "        (compare_against_original):  True\n",
      "      )\n",
      "    (2): UniversalSentenceEncoder(\n",
      "        (metric):  angular\n",
      "        (threshold):  0.840845057\n",
      "        (window_size):  15\n",
      "        (skip_text_shorter_than_window):  True\n",
      "        (compare_against_original):  False\n",
      "      )\n",
      "    (3): RepeatModification\n",
      "    (4): StopwordModification\n",
      "    (5): InputColumnModification(\n",
      "        (matching_column_labels):  ['premise', 'hypothesis']\n",
      "        (columns_to_ignore):  {'premise'}\n",
      "      )\n",
      "  (is_black_box):  True\n",
      ") \n",
      "\n"
     ]
    },
    {
     "name": "stderr",
     "output_type": "stream",
     "text": [
      "  0%|          | 0/20 [00:00<?, ?it/s]Using /tmp/tfhub_modules to cache modules.\n",
      "2022-06-15 18:06:09.283736: I tensorflow/stream_executor/cuda/cuda_gpu_executor.cc:975] successful NUMA node read from SysFS had negative value (-1), but there must be at least one NUMA node, so returning NUMA node zero\n",
      "2022-06-15 18:06:09.284247: I tensorflow/stream_executor/cuda/cuda_gpu_executor.cc:975] successful NUMA node read from SysFS had negative value (-1), but there must be at least one NUMA node, so returning NUMA node zero\n",
      "2022-06-15 18:06:09.284455: I tensorflow/stream_executor/cuda/cuda_gpu_executor.cc:975] successful NUMA node read from SysFS had negative value (-1), but there must be at least one NUMA node, so returning NUMA node zero\n",
      "2022-06-15 18:06:09.284728: I tensorflow/core/platform/cpu_feature_guard.cc:193] This TensorFlow binary is optimized with oneAPI Deep Neural Network Library (oneDNN) to use the following CPU instructions in performance-critical operations:  AVX2 FMA\n",
      "To enable them in other operations, rebuild TensorFlow with the appropriate compiler flags.\n",
      "2022-06-15 18:06:09.285559: I tensorflow/stream_executor/cuda/cuda_gpu_executor.cc:975] successful NUMA node read from SysFS had negative value (-1), but there must be at least one NUMA node, so returning NUMA node zero\n",
      "2022-06-15 18:06:09.285832: I tensorflow/stream_executor/cuda/cuda_gpu_executor.cc:975] successful NUMA node read from SysFS had negative value (-1), but there must be at least one NUMA node, so returning NUMA node zero\n",
      "2022-06-15 18:06:09.286034: I tensorflow/stream_executor/cuda/cuda_gpu_executor.cc:975] successful NUMA node read from SysFS had negative value (-1), but there must be at least one NUMA node, so returning NUMA node zero\n",
      "2022-06-15 18:06:09.286348: I tensorflow/stream_executor/cuda/cuda_gpu_executor.cc:975] successful NUMA node read from SysFS had negative value (-1), but there must be at least one NUMA node, so returning NUMA node zero\n",
      "2022-06-15 18:06:09.286552: I tensorflow/stream_executor/cuda/cuda_gpu_executor.cc:975] successful NUMA node read from SysFS had negative value (-1), but there must be at least one NUMA node, so returning NUMA node zero\n",
      "2022-06-15 18:06:09.286753: I tensorflow/stream_executor/cuda/cuda_gpu_executor.cc:975] successful NUMA node read from SysFS had negative value (-1), but there must be at least one NUMA node, so returning NUMA node zero\n",
      "2022-06-15 18:06:09.286935: I tensorflow/core/common_runtime/gpu/gpu_device.cc:1532] Created device /job:localhost/replica:0/task:0/device:GPU:0 with 4744 MB memory:  -> device: 0, name: NVIDIA GeForce RTX 3080, pci bus id: 0000:01:00.0, compute capability: 8.6\n",
      "2022-06-15 18:06:12.638351: I tensorflow/stream_executor/cuda/cuda_blas.cc:1786] TensorFloat-32 will be used for the matrix multiplication. This will only be logged once.\n",
      "  5%|▌         | 1/20 [00:06<02:12,  6.98s/it]/home/gechengze/anaconda3/envs/TextAttack/lib/python3.9/site-packages/textattack/loggers/csv_logger.py:41: FutureWarning: The frame.append method is deprecated and will be removed from pandas in a future version. Use pandas.concat instead.\n",
      "  self.df = self.df.append(row, ignore_index=True)\n",
      "[Succeeded / Failed / Skipped / Total] 1 / 0 / 0 / 1:  10%|█         | 2/20 [00:15<02:15,  7.53s/it]/home/gechengze/anaconda3/envs/TextAttack/lib/python3.9/site-packages/textattack/loggers/csv_logger.py:41: FutureWarning: The frame.append method is deprecated and will be removed from pandas in a future version. Use pandas.concat instead.\n",
      "  self.df = self.df.append(row, ignore_index=True)\n",
      "[Succeeded / Failed / Skipped / Total] 2 / 0 / 0 / 2:  15%|█▌        | 3/20 [00:17<01:41,  5.96s/it]/home/gechengze/anaconda3/envs/TextAttack/lib/python3.9/site-packages/textattack/loggers/csv_logger.py:41: FutureWarning: The frame.append method is deprecated and will be removed from pandas in a future version. Use pandas.concat instead.\n",
      "  self.df = self.df.append(row, ignore_index=True)\n",
      "[Succeeded / Failed / Skipped / Total] 3 / 0 / 0 / 3:  20%|██        | 4/20 [00:22<01:30,  5.63s/it]/home/gechengze/anaconda3/envs/TextAttack/lib/python3.9/site-packages/textattack/loggers/csv_logger.py:41: FutureWarning: The frame.append method is deprecated and will be removed from pandas in a future version. Use pandas.concat instead.\n",
      "  self.df = self.df.append(row, ignore_index=True)\n",
      "[Succeeded / Failed / Skipped / Total] 4 / 0 / 0 / 4:  25%|██▌       | 5/20 [00:35<01:45,  7.06s/it]/home/gechengze/anaconda3/envs/TextAttack/lib/python3.9/site-packages/textattack/loggers/csv_logger.py:41: FutureWarning: The frame.append method is deprecated and will be removed from pandas in a future version. Use pandas.concat instead.\n",
      "  self.df = self.df.append(row, ignore_index=True)\n",
      "[Succeeded / Failed / Skipped / Total] 5 / 0 / 0 / 5:  25%|██▌       | 5/20 [00:35<01:46,  7.07s/it]textattack: Saving checkpoint under \"checkpoints/1655287602726.ta.chkpt\" at 2022-06-15 18:06:42 after 5 attacks.\n"
     ]
    },
    {
     "name": "stdout",
     "output_type": "stream",
     "text": [
      "\n",
      "\n",
      "=============================================================================================================================\n",
      "=============================================================================================================================\n",
      "\n"
     ]
    },
    {
     "name": "stderr",
     "output_type": "stream",
     "text": [
      "[Succeeded / Failed / Skipped / Total] 5 / 0 / 0 / 5:  30%|███       | 6/20 [00:39<01:32,  6.62s/it]/home/gechengze/anaconda3/envs/TextAttack/lib/python3.9/site-packages/textattack/loggers/csv_logger.py:41: FutureWarning: The frame.append method is deprecated and will be removed from pandas in a future version. Use pandas.concat instead.\n",
      "  self.df = self.df.append(row, ignore_index=True)\n",
      "[Succeeded / Failed / Skipped / Total] 6 / 0 / 0 / 6:  35%|███▌      | 7/20 [00:44<01:22,  6.35s/it]/home/gechengze/anaconda3/envs/TextAttack/lib/python3.9/site-packages/textattack/loggers/csv_logger.py:41: FutureWarning: The frame.append method is deprecated and will be removed from pandas in a future version. Use pandas.concat instead.\n",
      "  self.df = self.df.append(row, ignore_index=True)\n",
      "[Succeeded / Failed / Skipped / Total] 7 / 0 / 0 / 7:  40%|████      | 8/20 [00:45<01:08,  5.74s/it]/home/gechengze/anaconda3/envs/TextAttack/lib/python3.9/site-packages/textattack/loggers/csv_logger.py:41: FutureWarning: The frame.append method is deprecated and will be removed from pandas in a future version. Use pandas.concat instead.\n",
      "  self.df = self.df.append(row, ignore_index=True)\n",
      "[Succeeded / Failed / Skipped / Total] 8 / 0 / 0 / 8:  45%|████▌     | 9/20 [01:11<01:27,  7.98s/it]/home/gechengze/anaconda3/envs/TextAttack/lib/python3.9/site-packages/textattack/loggers/csv_logger.py:41: FutureWarning: The frame.append method is deprecated and will be removed from pandas in a future version. Use pandas.concat instead.\n",
      "  self.df = self.df.append(row, ignore_index=True)\n",
      "[Succeeded / Failed / Skipped / Total] 9 / 0 / 0 / 9:  50%|█████     | 10/20 [05:30<05:30, 33.09s/it]/home/gechengze/anaconda3/envs/TextAttack/lib/python3.9/site-packages/textattack/loggers/csv_logger.py:41: FutureWarning: The frame.append method is deprecated and will be removed from pandas in a future version. Use pandas.concat instead.\n",
      "  self.df = self.df.append(row, ignore_index=True)\n",
      "[Succeeded / Failed / Skipped / Total] 10 / 0 / 0 / 10:  50%|█████     | 10/20 [05:30<05:30, 33.09s/it]textattack: Saving checkpoint under \"checkpoints/1655287898336.ta.chkpt\" at 2022-06-15 18:11:38 after 10 attacks.\n"
     ]
    },
    {
     "name": "stdout",
     "output_type": "stream",
     "text": [
      "\n",
      "\n",
      "=============================================================================================================================\n",
      "=============================================================================================================================\n",
      "\n"
     ]
    },
    {
     "name": "stderr",
     "output_type": "stream",
     "text": [
      "[Succeeded / Failed / Skipped / Total] 10 / 0 / 0 / 10:  55%|█████▌    | 11/20 [05:42<04:40, 31.17s/it]/home/gechengze/anaconda3/envs/TextAttack/lib/python3.9/site-packages/textattack/loggers/csv_logger.py:41: FutureWarning: The frame.append method is deprecated and will be removed from pandas in a future version. Use pandas.concat instead.\n",
      "  self.df = self.df.append(row, ignore_index=True)\n",
      "[Succeeded / Failed / Skipped / Total] 11 / 0 / 0 / 11:  60%|██████    | 12/20 [05:45<03:50, 28.77s/it]/home/gechengze/anaconda3/envs/TextAttack/lib/python3.9/site-packages/textattack/loggers/csv_logger.py:41: FutureWarning: The frame.append method is deprecated and will be removed from pandas in a future version. Use pandas.concat instead.\n",
      "  self.df = self.df.append(row, ignore_index=True)\n",
      "[Succeeded / Failed / Skipped / Total] 12 / 0 / 0 / 12:  65%|██████▌   | 13/20 [05:53<03:10, 27.19s/it]/home/gechengze/anaconda3/envs/TextAttack/lib/python3.9/site-packages/textattack/loggers/csv_logger.py:41: FutureWarning: The frame.append method is deprecated and will be removed from pandas in a future version. Use pandas.concat instead.\n",
      "  self.df = self.df.append(row, ignore_index=True)\n",
      "[Succeeded / Failed / Skipped / Total] 13 / 0 / 0 / 13:  70%|███████   | 14/20 [06:09<02:38, 26.36s/it]/home/gechengze/anaconda3/envs/TextAttack/lib/python3.9/site-packages/textattack/loggers/csv_logger.py:41: FutureWarning: The frame.append method is deprecated and will be removed from pandas in a future version. Use pandas.concat instead.\n",
      "  self.df = self.df.append(row, ignore_index=True)\n",
      "[Succeeded / Failed / Skipped / Total] 14 / 0 / 0 / 14:  75%|███████▌  | 15/20 [06:10<02:03, 24.73s/it]/home/gechengze/anaconda3/envs/TextAttack/lib/python3.9/site-packages/textattack/loggers/csv_logger.py:41: FutureWarning: The frame.append method is deprecated and will be removed from pandas in a future version. Use pandas.concat instead.\n",
      "  self.df = self.df.append(row, ignore_index=True)\n",
      "[Succeeded / Failed / Skipped / Total] 15 / 0 / 0 / 15:  75%|███████▌  | 15/20 [06:10<02:03, 24.73s/it]textattack: Saving checkpoint under \"checkpoints/1655287938346.ta.chkpt\" at 2022-06-15 18:12:18 after 15 attacks.\n"
     ]
    },
    {
     "name": "stdout",
     "output_type": "stream",
     "text": [
      "\n",
      "\n",
      "=============================================================================================================================\n",
      "=============================================================================================================================\n",
      "\n"
     ]
    },
    {
     "name": "stderr",
     "output_type": "stream",
     "text": [
      "[Succeeded / Failed / Skipped / Total] 15 / 0 / 0 / 15:  80%|████████  | 16/20 [06:23<01:35, 23.95s/it]/home/gechengze/anaconda3/envs/TextAttack/lib/python3.9/site-packages/textattack/loggers/csv_logger.py:41: FutureWarning: The frame.append method is deprecated and will be removed from pandas in a future version. Use pandas.concat instead.\n",
      "  self.df = self.df.append(row, ignore_index=True)\n",
      "[Succeeded / Failed / Skipped / Total] 16 / 0 / 0 / 16:  80%|████████  | 16/20 [06:23<01:35, 23.95s/it]/home/gechengze/anaconda3/envs/TextAttack/lib/python3.9/site-packages/textattack/loggers/csv_logger.py:41: FutureWarning: The frame.append method is deprecated and will be removed from pandas in a future version. Use pandas.concat instead.\n",
      "  self.df = self.df.append(row, ignore_index=True)\n",
      "[Succeeded / Failed / Skipped / Total] 16 / 0 / 1 / 17:  90%|█████████ | 18/20 [06:34<00:43, 21.91s/it]/home/gechengze/anaconda3/envs/TextAttack/lib/python3.9/site-packages/textattack/loggers/csv_logger.py:41: FutureWarning: The frame.append method is deprecated and will be removed from pandas in a future version. Use pandas.concat instead.\n",
      "  self.df = self.df.append(row, ignore_index=True)\n",
      "[Succeeded / Failed / Skipped / Total] 17 / 0 / 1 / 18:  95%|█████████▌| 19/20 [06:38<00:20, 20.97s/it]/home/gechengze/anaconda3/envs/TextAttack/lib/python3.9/site-packages/textattack/loggers/csv_logger.py:41: FutureWarning: The frame.append method is deprecated and will be removed from pandas in a future version. Use pandas.concat instead.\n",
      "  self.df = self.df.append(row, ignore_index=True)\n",
      "[Succeeded / Failed / Skipped / Total] 18 / 0 / 1 / 19: 100%|██████████| 20/20 [06:40<00:00, 20.00s/it]/home/gechengze/anaconda3/envs/TextAttack/lib/python3.9/site-packages/textattack/loggers/csv_logger.py:41: FutureWarning: The frame.append method is deprecated and will be removed from pandas in a future version. Use pandas.concat instead.\n",
      "  self.df = self.df.append(row, ignore_index=True)\n",
      "[Succeeded / Failed / Skipped / Total] 19 / 0 / 1 / 20: 100%|██████████| 20/20 [06:40<00:00, 20.01s/it]textattack: Saving checkpoint under \"checkpoints/1655287967508.ta.chkpt\" at 2022-06-15 18:12:47 after 20 attacks.\n",
      "[Succeeded / Failed / Skipped / Total] 19 / 0 / 1 / 20: 100%|██████████| 20/20 [06:40<00:00, 20.01s/it]"
     ]
    },
    {
     "name": "stdout",
     "output_type": "stream",
     "text": [
      "\n",
      "\n",
      "=============================================================================================================================\n",
      "=============================================================================================================================\n",
      "\n",
      "\n",
      "+-------------------------------+---------+\n",
      "| Attack Results                |         |\n",
      "+-------------------------------+---------+\n",
      "| Number of successful attacks: | 19      |\n",
      "| Number of failed attacks:     | 0       |\n",
      "| Number of skipped attacks:    | 1       |\n",
      "| Original accuracy:            | 95.0%   |\n",
      "| Accuracy under attack:        | 0.0%    |\n",
      "| Attack success rate:          | 100.0%  |\n",
      "| Average perturbed word %:     | 7.36%   |\n",
      "| Average num. words per input: | 273.5   |\n",
      "| Avg num queries:              | 1061.89 |\n",
      "+-------------------------------+---------+\n"
     ]
    },
    {
     "name": "stderr",
     "output_type": "stream",
     "text": [
      "\n"
     ]
    },
    {
     "data": {
      "text/plain": [
       "[<textattack.attack_results.successful_attack_result.SuccessfulAttackResult at 0x7f18d0e66fd0>,\n",
       " <textattack.attack_results.successful_attack_result.SuccessfulAttackResult at 0x7f18d0ce4100>,\n",
       " <textattack.attack_results.successful_attack_result.SuccessfulAttackResult at 0x7f18a8a78b20>,\n",
       " <textattack.attack_results.successful_attack_result.SuccessfulAttackResult at 0x7f18bef99850>,\n",
       " <textattack.attack_results.successful_attack_result.SuccessfulAttackResult at 0x7f18a952ad60>,\n",
       " <textattack.attack_results.successful_attack_result.SuccessfulAttackResult at 0x7f188b579070>,\n",
       " <textattack.attack_results.successful_attack_result.SuccessfulAttackResult at 0x7f188a615eb0>,\n",
       " <textattack.attack_results.successful_attack_result.SuccessfulAttackResult at 0x7f18c2311fd0>,\n",
       " <textattack.attack_results.successful_attack_result.SuccessfulAttackResult at 0x7f18a93a87c0>,\n",
       " <textattack.attack_results.successful_attack_result.SuccessfulAttackResult at 0x7f18a93a8940>,\n",
       " <textattack.attack_results.successful_attack_result.SuccessfulAttackResult at 0x7f18c2311970>,\n",
       " <textattack.attack_results.successful_attack_result.SuccessfulAttackResult at 0x7f18d0ce4160>,\n",
       " <textattack.attack_results.successful_attack_result.SuccessfulAttackResult at 0x7f152628c2e0>,\n",
       " <textattack.attack_results.successful_attack_result.SuccessfulAttackResult at 0x7f18a137c2b0>,\n",
       " <textattack.attack_results.successful_attack_result.SuccessfulAttackResult at 0x7f18abc2a6a0>,\n",
       " <textattack.attack_results.successful_attack_result.SuccessfulAttackResult at 0x7f183c4165e0>,\n",
       " <textattack.attack_results.skipped_attack_result.SkippedAttackResult at 0x7f183c416040>,\n",
       " <textattack.attack_results.successful_attack_result.SuccessfulAttackResult at 0x7f183c54db20>,\n",
       " <textattack.attack_results.successful_attack_result.SuccessfulAttackResult at 0x7f18482f3100>,\n",
       " <textattack.attack_results.successful_attack_result.SuccessfulAttackResult at 0x7f18abc2a880>]"
      ]
     },
     "execution_count": 1,
     "metadata": {},
     "output_type": "execute_result"
    }
   ],
   "source": [
    "import transformers\n",
    "import textattack\n",
    "\n",
    "# 加载bert模型\n",
    "model = transformers.AutoModelForSequenceClassification.from_pretrained('models/bert-base-uncased-imdb')\n",
    "# 加载bert tokenizer\n",
    "tokenizer = transformers.AutoTokenizer.from_pretrained('models/bert-base-uncased-imdb')\n",
    "# 使用textattack包装器进行包装\n",
    "model_wrapper = textattack.models.wrappers.HuggingFaceModelWrapper(model, tokenizer)\n",
    "# 加载数据集\n",
    "dataset = textattack.datasets.HuggingFaceDataset('imdb', split='test')\n",
    "# 选择攻击策略为TextFooler\n",
    "attack = textattack.attack_recipes.TextFoolerJin2019.build(model_wrapper)\n",
    "# 将攻击结果存入textfooler-bert-imdb.csv\n",
    "attack_args = textattack.AttackArgs(num_examples=20, log_to_csv='textfooler-bert-imdb.csv', checkpoint_interval=5, checkpoint_dir='checkpoints', disable_stdout=True)\n",
    "# 构造attacker\n",
    "attacker = textattack.Attacker(attack, dataset, attack_args)\n",
    "# 开始攻击\n",
    "attacker.attack_dataset()"
   ]
  },
  {
   "cell_type": "markdown",
   "id": "9f9fd25b",
   "metadata": {},
   "source": [
    "## 2. 使用PWWS攻击bert-base-uncased-imdb"
   ]
  },
  {
   "cell_type": "code",
   "execution_count": 2,
   "id": "b9c6e312",
   "metadata": {
    "scrolled": true
   },
   "outputs": [
    {
     "name": "stderr",
     "output_type": "stream",
     "text": [
      "Reusing dataset imdb (/home/gechengze/.cache/huggingface/datasets/imdb/plain_text/1.0.0/e3c66f1788a67a89c7058d97ff62b6c30531e05b549de56d3ab91891f0561f9a)\n",
      "100%|██████████| 3/3 [00:00<00:00, 720.34it/s]\n",
      "textattack: Loading \u001b[94mdatasets\u001b[0m dataset \u001b[94mimdb\u001b[0m, split \u001b[94mtest\u001b[0m.\n",
      "[nltk_data] Downloading package omw-1.4 to\n",
      "[nltk_data]     /home/gechengze/nltk_data...\n",
      "[nltk_data]   Package omw-1.4 is already up-to-date!\n",
      "textattack: Unknown if model of class <class 'transformers.models.bert.modeling_bert.BertForSequenceClassification'> compatible with goal function <class 'textattack.goal_functions.classification.untargeted_classification.UntargetedClassification'>.\n",
      "textattack: Logging to CSV at path pwws-bert-imdb.csv\n"
     ]
    },
    {
     "name": "stdout",
     "output_type": "stream",
     "text": [
      "Attack(\n",
      "  (search_method): GreedyWordSwapWIR(\n",
      "    (wir_method):  weighted-saliency\n",
      "  )\n",
      "  (goal_function):  UntargetedClassification\n",
      "  (transformation):  WordSwapWordNet\n",
      "  (constraints): \n",
      "    (0): RepeatModification\n",
      "    (1): StopwordModification\n",
      "  (is_black_box):  True\n",
      ") \n",
      "\n"
     ]
    },
    {
     "name": "stderr",
     "output_type": "stream",
     "text": [
      "  5%|▌         | 1/20 [00:09<02:53,  9.14s/it]/home/gechengze/anaconda3/envs/TextAttack/lib/python3.9/site-packages/textattack/loggers/csv_logger.py:41: FutureWarning: The frame.append method is deprecated and will be removed from pandas in a future version. Use pandas.concat instead.\n",
      "  self.df = self.df.append(row, ignore_index=True)\n",
      "[Succeeded / Failed / Skipped / Total] 1 / 0 / 0 / 1:  10%|█         | 2/20 [00:34<05:08, 17.13s/it]/home/gechengze/anaconda3/envs/TextAttack/lib/python3.9/site-packages/textattack/loggers/csv_logger.py:41: FutureWarning: The frame.append method is deprecated and will be removed from pandas in a future version. Use pandas.concat instead.\n",
      "  self.df = self.df.append(row, ignore_index=True)\n",
      "[Succeeded / Failed / Skipped / Total] 2 / 0 / 0 / 2:  15%|█▌        | 3/20 [00:47<04:30, 15.88s/it]/home/gechengze/anaconda3/envs/TextAttack/lib/python3.9/site-packages/textattack/loggers/csv_logger.py:41: FutureWarning: The frame.append method is deprecated and will be removed from pandas in a future version. Use pandas.concat instead.\n",
      "  self.df = self.df.append(row, ignore_index=True)\n",
      "[Succeeded / Failed / Skipped / Total] 3 / 0 / 0 / 3:  20%|██        | 4/20 [00:54<03:38, 13.64s/it]/home/gechengze/anaconda3/envs/TextAttack/lib/python3.9/site-packages/textattack/loggers/csv_logger.py:41: FutureWarning: The frame.append method is deprecated and will be removed from pandas in a future version. Use pandas.concat instead.\n",
      "  self.df = self.df.append(row, ignore_index=True)\n",
      "[Succeeded / Failed / Skipped / Total] 4 / 0 / 0 / 4:  25%|██▌       | 5/20 [01:11<03:33, 14.22s/it]/home/gechengze/anaconda3/envs/TextAttack/lib/python3.9/site-packages/textattack/loggers/csv_logger.py:41: FutureWarning: The frame.append method is deprecated and will be removed from pandas in a future version. Use pandas.concat instead.\n",
      "  self.df = self.df.append(row, ignore_index=True)\n",
      "[Succeeded / Failed / Skipped / Total] 5 / 0 / 0 / 5:  25%|██▌       | 5/20 [01:11<03:33, 14.23s/it]textattack: Saving checkpoint under \"checkpoints/1655288066192.ta.chkpt\" at 2022-06-15 18:14:26 after 5 attacks.\n"
     ]
    },
    {
     "name": "stdout",
     "output_type": "stream",
     "text": [
      "\n",
      "\n",
      "=============================================================================================================================\n",
      "=============================================================================================================================\n",
      "\n"
     ]
    },
    {
     "name": "stderr",
     "output_type": "stream",
     "text": [
      "[Succeeded / Failed / Skipped / Total] 5 / 0 / 0 / 5:  30%|███       | 6/20 [01:34<03:39, 15.67s/it]/home/gechengze/anaconda3/envs/TextAttack/lib/python3.9/site-packages/textattack/loggers/csv_logger.py:41: FutureWarning: The frame.append method is deprecated and will be removed from pandas in a future version. Use pandas.concat instead.\n",
      "  self.df = self.df.append(row, ignore_index=True)\n",
      "[Succeeded / Failed / Skipped / Total] 6 / 0 / 0 / 6:  35%|███▌      | 7/20 [02:01<03:46, 17.43s/it]/home/gechengze/anaconda3/envs/TextAttack/lib/python3.9/site-packages/textattack/loggers/csv_logger.py:41: FutureWarning: The frame.append method is deprecated and will be removed from pandas in a future version. Use pandas.concat instead.\n",
      "  self.df = self.df.append(row, ignore_index=True)\n",
      "[Succeeded / Failed / Skipped / Total] 7 / 0 / 0 / 7:  40%|████      | 8/20 [02:10<03:16, 16.36s/it]/home/gechengze/anaconda3/envs/TextAttack/lib/python3.9/site-packages/textattack/loggers/csv_logger.py:41: FutureWarning: The frame.append method is deprecated and will be removed from pandas in a future version. Use pandas.concat instead.\n",
      "  self.df = self.df.append(row, ignore_index=True)\n",
      "[Succeeded / Failed / Skipped / Total] 8 / 0 / 0 / 8:  45%|████▌     | 9/20 [02:19<02:50, 15.49s/it]/home/gechengze/anaconda3/envs/TextAttack/lib/python3.9/site-packages/textattack/loggers/csv_logger.py:41: FutureWarning: The frame.append method is deprecated and will be removed from pandas in a future version. Use pandas.concat instead.\n",
      "  self.df = self.df.append(row, ignore_index=True)\n",
      "[Succeeded / Failed / Skipped / Total] 9 / 0 / 0 / 9:  50%|█████     | 10/20 [03:55<03:55, 23.53s/it]/home/gechengze/anaconda3/envs/TextAttack/lib/python3.9/site-packages/textattack/loggers/csv_logger.py:41: FutureWarning: The frame.append method is deprecated and will be removed from pandas in a future version. Use pandas.concat instead.\n",
      "  self.df = self.df.append(row, ignore_index=True)\n",
      "[Succeeded / Failed / Skipped / Total] 10 / 0 / 0 / 10:  50%|█████     | 10/20 [03:55<03:55, 23.53s/it]textattack: Saving checkpoint under \"checkpoints/1655288230378.ta.chkpt\" at 2022-06-15 18:17:10 after 10 attacks.\n"
     ]
    },
    {
     "name": "stdout",
     "output_type": "stream",
     "text": [
      "\n",
      "\n",
      "=============================================================================================================================\n",
      "=============================================================================================================================\n",
      "\n"
     ]
    },
    {
     "name": "stderr",
     "output_type": "stream",
     "text": [
      "[Succeeded / Failed / Skipped / Total] 10 / 0 / 0 / 10:  55%|█████▌    | 11/20 [04:14<03:27, 23.11s/it]/home/gechengze/anaconda3/envs/TextAttack/lib/python3.9/site-packages/textattack/loggers/csv_logger.py:41: FutureWarning: The frame.append method is deprecated and will be removed from pandas in a future version. Use pandas.concat instead.\n",
      "  self.df = self.df.append(row, ignore_index=True)\n",
      "[Succeeded / Failed / Skipped / Total] 11 / 0 / 0 / 11:  60%|██████    | 12/20 [04:20<02:53, 21.73s/it]/home/gechengze/anaconda3/envs/TextAttack/lib/python3.9/site-packages/textattack/loggers/csv_logger.py:41: FutureWarning: The frame.append method is deprecated and will be removed from pandas in a future version. Use pandas.concat instead.\n",
      "  self.df = self.df.append(row, ignore_index=True)\n",
      "[Succeeded / Failed / Skipped / Total] 12 / 0 / 0 / 12:  65%|██████▌   | 13/20 [04:35<02:28, 21.21s/it]/home/gechengze/anaconda3/envs/TextAttack/lib/python3.9/site-packages/textattack/loggers/csv_logger.py:41: FutureWarning: The frame.append method is deprecated and will be removed from pandas in a future version. Use pandas.concat instead.\n",
      "  self.df = self.df.append(row, ignore_index=True)\n",
      "[Succeeded / Failed / Skipped / Total] 13 / 0 / 0 / 13:  70%|███████   | 14/20 [04:46<02:02, 20.46s/it]/home/gechengze/anaconda3/envs/TextAttack/lib/python3.9/site-packages/textattack/loggers/csv_logger.py:41: FutureWarning: The frame.append method is deprecated and will be removed from pandas in a future version. Use pandas.concat instead.\n",
      "  self.df = self.df.append(row, ignore_index=True)\n",
      "[Succeeded / Failed / Skipped / Total] 14 / 0 / 0 / 14:  75%|███████▌  | 15/20 [04:52<01:37, 19.47s/it]/home/gechengze/anaconda3/envs/TextAttack/lib/python3.9/site-packages/textattack/loggers/csv_logger.py:41: FutureWarning: The frame.append method is deprecated and will be removed from pandas in a future version. Use pandas.concat instead.\n",
      "  self.df = self.df.append(row, ignore_index=True)\n",
      "[Succeeded / Failed / Skipped / Total] 15 / 0 / 0 / 15:  75%|███████▌  | 15/20 [04:52<01:37, 19.48s/it]textattack: Saving checkpoint under \"checkpoints/1655288287187.ta.chkpt\" at 2022-06-15 18:18:07 after 15 attacks.\n"
     ]
    },
    {
     "name": "stdout",
     "output_type": "stream",
     "text": [
      "\n",
      "\n",
      "=============================================================================================================================\n",
      "=============================================================================================================================\n",
      "\n"
     ]
    },
    {
     "name": "stderr",
     "output_type": "stream",
     "text": [
      "[Succeeded / Failed / Skipped / Total] 15 / 0 / 0 / 15:  80%|████████  | 16/20 [05:17<01:19, 19.83s/it]/home/gechengze/anaconda3/envs/TextAttack/lib/python3.9/site-packages/textattack/loggers/csv_logger.py:41: FutureWarning: The frame.append method is deprecated and will be removed from pandas in a future version. Use pandas.concat instead.\n",
      "  self.df = self.df.append(row, ignore_index=True)\n",
      "[Succeeded / Failed / Skipped / Total] 16 / 0 / 0 / 16:  80%|████████  | 16/20 [05:17<01:19, 19.83s/it]/home/gechengze/anaconda3/envs/TextAttack/lib/python3.9/site-packages/textattack/loggers/csv_logger.py:41: FutureWarning: The frame.append method is deprecated and will be removed from pandas in a future version. Use pandas.concat instead.\n",
      "  self.df = self.df.append(row, ignore_index=True)\n",
      "[Succeeded / Failed / Skipped / Total] 16 / 0 / 1 / 17:  90%|█████████ | 18/20 [06:22<00:42, 21.23s/it]/home/gechengze/anaconda3/envs/TextAttack/lib/python3.9/site-packages/textattack/loggers/csv_logger.py:41: FutureWarning: The frame.append method is deprecated and will be removed from pandas in a future version. Use pandas.concat instead.\n",
      "  self.df = self.df.append(row, ignore_index=True)\n",
      "[Succeeded / Failed / Skipped / Total] 17 / 0 / 1 / 18:  95%|█████████▌| 19/20 [06:33<00:20, 20.69s/it]/home/gechengze/anaconda3/envs/TextAttack/lib/python3.9/site-packages/textattack/loggers/csv_logger.py:41: FutureWarning: The frame.append method is deprecated and will be removed from pandas in a future version. Use pandas.concat instead.\n",
      "  self.df = self.df.append(row, ignore_index=True)\n",
      "[Succeeded / Failed / Skipped / Total] 18 / 0 / 1 / 19: 100%|██████████| 20/20 [06:42<00:00, 20.11s/it]/home/gechengze/anaconda3/envs/TextAttack/lib/python3.9/site-packages/textattack/loggers/csv_logger.py:41: FutureWarning: The frame.append method is deprecated and will be removed from pandas in a future version. Use pandas.concat instead.\n",
      "  self.df = self.df.append(row, ignore_index=True)\n",
      "[Succeeded / Failed / Skipped / Total] 19 / 0 / 1 / 20: 100%|██████████| 20/20 [06:42<00:00, 20.11s/it]textattack: Saving checkpoint under \"checkpoints/1655288397294.ta.chkpt\" at 2022-06-15 18:19:57 after 20 attacks.\n",
      "[Succeeded / Failed / Skipped / Total] 19 / 0 / 1 / 20: 100%|██████████| 20/20 [06:42<00:00, 20.11s/it]"
     ]
    },
    {
     "name": "stdout",
     "output_type": "stream",
     "text": [
      "\n",
      "\n",
      "=============================================================================================================================\n",
      "=============================================================================================================================\n",
      "\n",
      "\n",
      "+-------------------------------+---------+\n",
      "| Attack Results                |         |\n",
      "+-------------------------------+---------+\n",
      "| Number of successful attacks: | 19      |\n",
      "| Number of failed attacks:     | 0       |\n",
      "| Number of skipped attacks:    | 1       |\n",
      "| Original accuracy:            | 95.0%   |\n",
      "| Accuracy under attack:        | 0.0%    |\n",
      "| Attack success rate:          | 100.0%  |\n",
      "| Average perturbed word %:     | 1.91%   |\n",
      "| Average num. words per input: | 273.5   |\n",
      "| Avg num queries:              | 1768.32 |\n",
      "+-------------------------------+---------+\n"
     ]
    },
    {
     "name": "stderr",
     "output_type": "stream",
     "text": [
      "\n"
     ]
    },
    {
     "data": {
      "text/plain": [
       "[<textattack.attack_results.successful_attack_result.SuccessfulAttackResult at 0x7f15582faeb0>,\n",
       " <textattack.attack_results.successful_attack_result.SuccessfulAttackResult at 0x7f151b9b9700>,\n",
       " <textattack.attack_results.successful_attack_result.SuccessfulAttackResult at 0x7f18abc2ad30>,\n",
       " <textattack.attack_results.successful_attack_result.SuccessfulAttackResult at 0x7f152628cca0>,\n",
       " <textattack.attack_results.successful_attack_result.SuccessfulAttackResult at 0x7f17bed1b9d0>,\n",
       " <textattack.attack_results.successful_attack_result.SuccessfulAttackResult at 0x7f151df55400>,\n",
       " <textattack.attack_results.successful_attack_result.SuccessfulAttackResult at 0x7f1a7854f5e0>,\n",
       " <textattack.attack_results.successful_attack_result.SuccessfulAttackResult at 0x7f18d1f1edf0>,\n",
       " <textattack.attack_results.successful_attack_result.SuccessfulAttackResult at 0x7f18d0bb2970>,\n",
       " <textattack.attack_results.successful_attack_result.SuccessfulAttackResult at 0x7f151b9b93a0>,\n",
       " <textattack.attack_results.successful_attack_result.SuccessfulAttackResult at 0x7f189a3b05b0>,\n",
       " <textattack.attack_results.successful_attack_result.SuccessfulAttackResult at 0x7f1760440820>,\n",
       " <textattack.attack_results.successful_attack_result.SuccessfulAttackResult at 0x7f1515ed7df0>,\n",
       " <textattack.attack_results.successful_attack_result.SuccessfulAttackResult at 0x7f151b9b9dc0>,\n",
       " <textattack.attack_results.successful_attack_result.SuccessfulAttackResult at 0x7f17601088e0>,\n",
       " <textattack.attack_results.successful_attack_result.SuccessfulAttackResult at 0x7f18d1f2cee0>,\n",
       " <textattack.attack_results.skipped_attack_result.SkippedAttackResult at 0x7f151a228610>,\n",
       " <textattack.attack_results.successful_attack_result.SuccessfulAttackResult at 0x7f182404e550>,\n",
       " <textattack.attack_results.successful_attack_result.SuccessfulAttackResult at 0x7f151cdcf880>,\n",
       " <textattack.attack_results.successful_attack_result.SuccessfulAttackResult at 0x7f188bf0baf0>]"
      ]
     },
     "execution_count": 2,
     "metadata": {},
     "output_type": "execute_result"
    }
   ],
   "source": [
    "import transformers\n",
    "import textattack\n",
    "\n",
    "# 加载bert模型\n",
    "model = transformers.AutoModelForSequenceClassification.from_pretrained('models/bert-base-uncased-imdb')\n",
    "# 加载bert tokenizer\n",
    "tokenizer = transformers.AutoTokenizer.from_pretrained('models/bert-base-uncased-imdb')\n",
    "# 使用textattack包装器进行包装\n",
    "model_wrapper = textattack.models.wrappers.HuggingFaceModelWrapper(model, tokenizer)\n",
    "# 加载数据集\n",
    "dataset = textattack.datasets.HuggingFaceDataset('imdb', split='test')\n",
    "# 选择攻击策略为PWWS\n",
    "attack = textattack.attack_recipes.PWWSRen2019.build(model_wrapper)\n",
    "# 将攻击结果存入pwws-bert-imdb.csv\n",
    "attack_args = textattack.AttackArgs(num_examples=20, log_to_csv='pwws-bert-imdb.csv', checkpoint_interval=5, checkpoint_dir='checkpoints', disable_stdout=True)\n",
    "# 构造attacker\n",
    "attacker = textattack.Attacker(attack, dataset, attack_args)\n",
    "# 开始攻击\n",
    "attacker.attack_dataset()"
   ]
  },
  {
   "cell_type": "markdown",
   "id": "50a9f4ed",
   "metadata": {},
   "source": [
    "## 3. 使用BAE攻击bert-base-uncased-imdb"
   ]
  },
  {
   "cell_type": "code",
   "execution_count": 1,
   "id": "4f4e4444",
   "metadata": {},
   "outputs": [
    {
     "name": "stderr",
     "output_type": "stream",
     "text": [
      "/home/gechengze/anaconda3/envs/TextAttack/lib/python3.9/site-packages/tqdm/auto.py:22: TqdmWarning: IProgress not found. Please update jupyter and ipywidgets. See https://ipywidgets.readthedocs.io/en/stable/user_install.html\n",
      "  from .autonotebook import tqdm as notebook_tqdm\n",
      "textattack: Unknown if model of class <class 'transformers.models.bert.modeling_bert.BertForSequenceClassification'> compatible with goal function <class 'textattack.goal_functions.classification.untargeted_classification.UntargetedClassification'>.\n",
      "Using custom data configuration default-a0d2f1708d5c8f9e\n",
      "Reusing dataset csv (/home/gechengze/.cache/huggingface/datasets/csv/default-a0d2f1708d5c8f9e/0.0.0/bf68a4c4aefa545d0712b2fcbb1b327f905bbe2f6425fbc5e8c25234acb9e14a)\n",
      "100%|██████████| 1/1 [00:00<00:00, 964.65it/s]\n",
      "textattack: Logging to CSV at path bae-bert-chinese.csv\n"
     ]
    },
    {
     "name": "stdout",
     "output_type": "stream",
     "text": [
      "Attack(\n",
      "  (search_method): GreedyWordSwapWIR(\n",
      "    (wir_method):  unk\n",
      "  )\n",
      "  (goal_function):  UntargetedClassification\n",
      "  (transformation):  ChineseHomophoneCharacterSwap\n",
      "  (constraints): \n",
      "    (0): RepeatModification\n",
      "    (1): StopwordModification\n",
      "  (is_black_box):  True\n",
      ") \n",
      "\n"
     ]
    },
    {
     "name": "stderr",
     "output_type": "stream",
     "text": [
      "  0%|          | 0/10 [00:00<?, ?it/s]Building prefix dict from the default dictionary ...\n",
      "Building prefix dict from the default dictionary ...\n",
      "Loading model from cache /tmp/jieba.cache\n",
      "Loading model from cache /tmp/jieba.cache\n",
      "Loading model cost 0.380 seconds.\n",
      "Loading model cost 0.380 seconds.\n",
      "Prefix dict has been built successfully.\n",
      "Prefix dict has been built successfully.\n",
      " 10%|█         | 1/10 [00:01<00:11,  1.27s/it]/home/gechengze/anaconda3/envs/TextAttack/lib/python3.9/site-packages/textattack/loggers/csv_logger.py:41: FutureWarning: The frame.append method is deprecated and will be removed from pandas in a future version. Use pandas.concat instead.\n",
      "  self.df = self.df.append(row, ignore_index=True)\n",
      "[Succeeded / Failed / Skipped / Total] 1 / 0 / 0 / 1:  20%|██        | 2/10 [00:01<00:07,  1.05it/s]/home/gechengze/anaconda3/envs/TextAttack/lib/python3.9/site-packages/textattack/loggers/csv_logger.py:41: FutureWarning: The frame.append method is deprecated and will be removed from pandas in a future version. Use pandas.concat instead.\n",
      "  self.df = self.df.append(row, ignore_index=True)\n",
      "[Succeeded / Failed / Skipped / Total] 2 / 0 / 0 / 2:  20%|██        | 2/10 [00:01<00:07,  1.04it/s]"
     ]
    },
    {
     "name": "stdout",
     "output_type": "stream",
     "text": [
      "--------------------------------------------- Result 1 ---------------------------------------------\n",
      "[[Negative (99%)]] --> [[Positive (76%)]]\n",
      "\n",
      "一分都不想给，连个快递都不会送，第二次送到家，要是别人不告诉我几别人百块钱就白花了\n",
      "\n",
      "一分都步想给，练个快第都不灰松，第二次宋到家，要是别人不告诉我几别人百块钱就拜花了\n",
      "\n",
      "\n",
      "--------------------------------------------- Result 2 ---------------------------------------------\n",
      "[[Positive (97%)]] --> [[Negative (63%)]]\n",
      "\n",
      "优点忒多了,不用多介绍了.\n",
      "\n",
      "有点忒多了,不用多介少了.\n",
      "\n",
      "\n"
     ]
    },
    {
     "name": "stderr",
     "output_type": "stream",
     "text": [
      "[Succeeded / Failed / Skipped / Total] 2 / 0 / 0 / 2:  30%|███       | 3/10 [00:02<00:05,  1.18it/s]/home/gechengze/anaconda3/envs/TextAttack/lib/python3.9/site-packages/textattack/loggers/csv_logger.py:41: FutureWarning: The frame.append method is deprecated and will be removed from pandas in a future version. Use pandas.concat instead.\n",
      "  self.df = self.df.append(row, ignore_index=True)\n",
      "[Succeeded / Failed / Skipped / Total] 2 / 1 / 0 / 3:  30%|███       | 3/10 [00:02<00:05,  1.18it/s]"
     ]
    },
    {
     "name": "stdout",
     "output_type": "stream",
     "text": [
      "--------------------------------------------- Result 3 ---------------------------------------------\n",
      "[[Positive (99%)]] --> [[[FAILED]]]\n",
      "\n",
      "京东东西非常好，物流也非常给力，送货小哥服务很热情，希望京东越来越好，赞一个?！\n",
      "\n",
      "\n"
     ]
    },
    {
     "name": "stderr",
     "output_type": "stream",
     "text": [
      "[Succeeded / Failed / Skipped / Total] 2 / 1 / 0 / 3:  40%|████      | 4/10 [00:02<00:04,  1.42it/s]/home/gechengze/anaconda3/envs/TextAttack/lib/python3.9/site-packages/textattack/loggers/csv_logger.py:41: FutureWarning: The frame.append method is deprecated and will be removed from pandas in a future version. Use pandas.concat instead.\n",
      "  self.df = self.df.append(row, ignore_index=True)\n",
      "[Succeeded / Failed / Skipped / Total] 3 / 1 / 0 / 4:  50%|█████     | 5/10 [00:02<00:02,  1.67it/s]/home/gechengze/anaconda3/envs/TextAttack/lib/python3.9/site-packages/textattack/loggers/csv_logger.py:41: FutureWarning: The frame.append method is deprecated and will be removed from pandas in a future version. Use pandas.concat instead.\n",
      "  self.df = self.df.append(row, ignore_index=True)\n",
      "[Succeeded / Failed / Skipped / Total] 4 / 1 / 0 / 5:  50%|█████     | 5/10 [00:03<00:03,  1.66it/s]"
     ]
    },
    {
     "name": "stdout",
     "output_type": "stream",
     "text": [
      "--------------------------------------------- Result 4 ---------------------------------------------\n",
      "[[Negative (99%)]] --> [[Positive (56%)]]\n",
      "\n",
      "一半以上都有点小问题，有几个不能吃。\n",
      "\n",
      "一般以上都有点小文题，有及个部能池。\n",
      "\n",
      "\n",
      "--------------------------------------------- Result 5 ---------------------------------------------\n",
      "[[Positive (92%)]] --> [[Negative (93%)]]\n",
      "\n",
      "性价比高，毕竟华为也是国内名牌。\n",
      "\n",
      "性假比搞，毕竟华为也是过内名牌。\n",
      "\n",
      "\n"
     ]
    },
    {
     "name": "stderr",
     "output_type": "stream",
     "text": [
      "[Succeeded / Failed / Skipped / Total] 4 / 1 / 0 / 5:  60%|██████    | 6/10 [00:04<00:02,  1.46it/s]/home/gechengze/anaconda3/envs/TextAttack/lib/python3.9/site-packages/textattack/loggers/csv_logger.py:41: FutureWarning: The frame.append method is deprecated and will be removed from pandas in a future version. Use pandas.concat instead.\n",
      "  self.df = self.df.append(row, ignore_index=True)\n",
      "[Succeeded / Failed / Skipped / Total] 4 / 2 / 0 / 6:  60%|██████    | 6/10 [00:04<00:02,  1.45it/s]"
     ]
    },
    {
     "name": "stdout",
     "output_type": "stream",
     "text": [
      "--------------------------------------------- Result 6 ---------------------------------------------\n",
      "[[Positive (98%)]] --> [[[FAILED]]]\n",
      "\n",
      "物流超级快。快递大哥态度很好的哟，打开快递真的是没有失望，和我想象中的一样，男票穿的很显瘦！牛仔裤控！满意极了，裤子男票穿走了，没办法上图，总之很好评\n",
      "\n",
      "\n"
     ]
    },
    {
     "name": "stderr",
     "output_type": "stream",
     "text": [
      "[Succeeded / Failed / Skipped / Total] 4 / 2 / 0 / 6:  70%|███████   | 7/10 [00:04<00:01,  1.61it/s]/home/gechengze/anaconda3/envs/TextAttack/lib/python3.9/site-packages/textattack/loggers/csv_logger.py:41: FutureWarning: The frame.append method is deprecated and will be removed from pandas in a future version. Use pandas.concat instead.\n",
      "  self.df = self.df.append(row, ignore_index=True)\n",
      "[Succeeded / Failed / Skipped / Total] 5 / 2 / 0 / 7:  70%|███████   | 7/10 [00:04<00:01,  1.60it/s]/home/gechengze/anaconda3/envs/TextAttack/lib/python3.9/site-packages/textattack/loggers/csv_logger.py:41: FutureWarning: The frame.append method is deprecated and will be removed from pandas in a future version. Use pandas.concat instead.\n",
      "  self.df = self.df.append(row, ignore_index=True)\n",
      "[Succeeded / Failed / Skipped / Total] 5 / 2 / 1 / 8:  90%|█████████ | 9/10 [00:04<00:00,  2.00it/s]/home/gechengze/anaconda3/envs/TextAttack/lib/python3.9/site-packages/textattack/loggers/csv_logger.py:41: FutureWarning: The frame.append method is deprecated and will be removed from pandas in a future version. Use pandas.concat instead.\n",
      "  self.df = self.df.append(row, ignore_index=True)\n",
      "[Succeeded / Failed / Skipped / Total] 6 / 2 / 1 / 9:  90%|█████████ | 9/10 [00:04<00:00,  2.00it/s]"
     ]
    },
    {
     "name": "stdout",
     "output_type": "stream",
     "text": [
      "--------------------------------------------- Result 7 ---------------------------------------------\n",
      "[[Negative (98%)]] --> [[Positive (80%)]]\n",
      "\n",
      "收到的苹果与图片不符，很小，并且一盒中有5个坏的。\n",
      "\n",
      "收到的苹过与图片不负，很小，并且一盒中有5个怀的。\n",
      "\n",
      "\n",
      "--------------------------------------------- Result 8 ---------------------------------------------\n",
      "[[Positive (55%)]] --> [[[SKIPPED]]]\n",
      "\n",
      "发热量也太大了吧，刚开机没多久，仅上网，机器就很热了，gpu就没有下过50度，cp一直44度以上，不知道是正常的还是我的这台有问题，希望有人指教一下~\n",
      "\n",
      "\n",
      "--------------------------------------------- Result 9 ---------------------------------------------\n",
      "[[Negative (93%)]] --> [[Positive (85%)]]\n",
      "\n",
      "买了两条，这条裤子码数偏大了！\n",
      "\n",
      "买了两条，这条裤子码数篇大了！\n",
      "\n",
      "\n"
     ]
    },
    {
     "name": "stderr",
     "output_type": "stream",
     "text": [
      "/home/gechengze/anaconda3/envs/TextAttack/lib/python3.9/site-packages/textattack/loggers/csv_logger.py:41: FutureWarning: The frame.append method is deprecated and will be removed from pandas in a future version. Use pandas.concat instead.\n",
      "  self.df = self.df.append(row, ignore_index=True)\n",
      "[Succeeded / Failed / Skipped / Total] 7 / 2 / 1 / 10: 100%|██████████| 10/10 [00:04<00:00,  2.12it/s]"
     ]
    },
    {
     "name": "stdout",
     "output_type": "stream",
     "text": [
      "--------------------------------------------- Result 10 ---------------------------------------------\n",
      "[[Positive (86%)]] --> [[Negative (97%)]]\n",
      "\n",
      "手感冷冰冰的，除了小点好像没问题，蛮好的\n",
      "\n",
      "手感冷冰冰的，除了小店好像没文题，蛮号的\n",
      "\n",
      "\n",
      "\n",
      "+-------------------------------+--------+\n",
      "| Attack Results                |        |\n",
      "+-------------------------------+--------+\n",
      "| Number of successful attacks: | 7      |\n",
      "| Number of failed attacks:     | 2      |\n",
      "| Number of skipped attacks:    | 1      |\n",
      "| Original accuracy:            | 90.0%  |\n",
      "| Accuracy under attack:        | 20.0%  |\n",
      "| Attack success rate:          | 77.78% |\n",
      "| Average perturbed word %:     | 53.19% |\n",
      "| Average num. words per input: | 18.8   |\n",
      "| Avg num queries:              | 45.56  |\n",
      "+-------------------------------+--------+\n"
     ]
    },
    {
     "name": "stderr",
     "output_type": "stream",
     "text": [
      "\n"
     ]
    }
   ],
   "source": [
    "import datasets\n",
    "import transformers\n",
    "import textattack\n",
    "import string\n",
    "\n",
    "# 加载bert模型和tokenizer\n",
    "tokenizer = transformers.AutoTokenizer.from_pretrained(\"models/bert-base-chinese-FineTuned-Binary-Best\")\n",
    "model = transformers.AutoModelForSequenceClassification.from_pretrained(\"models/bert-base-chinese-FineTuned-Binary-Best\")\n",
    "# 包装进textattak\n",
    "model_wrapper = textattack.models.wrappers.HuggingFaceModelWrapper(model, tokenizer)\n",
    "# 选择goal_function为UntargetedClassification\n",
    "goal_function = textattack.goal_functions.UntargetedClassification(model_wrapper, query_budget=10000)\n",
    "# 加载数据集，并包装为textattack的dataset\n",
    "dataset = datasets.load_dataset('csv', data_files='dataset/chinese_data_demo.tsv', delimiter=\"\\t\")[\"train\"]\n",
    "dataset = textattack.datasets.HuggingFaceDataset(\n",
    "    dataset,\n",
    "    dataset_columns=([\"text\"], \"label\"),\n",
    "    label_names=[\"Negative\", \"Positive\"]\n",
    ")\n",
    "transformation = textattack.transformations.ChineseHomophoneCharacterSwap()\n",
    "stopwords = set(\n",
    "    [\"、\", \"。\", \"〈\", \"〉\", \"《\", \"》\", \"一\", \"一个\", \"一些\", \"一何\", \"一切\", \"一则\", \"一方面\", \"一旦\", \"一来\", \"一样\", \"一种\", \"一般\", \"一转眼\", \"七\", \"万一\", \"三\", \"上\", \"上下\", \"下\", \"不\", \"不仅\", \"不但\", \"不光\", \"不单\", \"不只\", \"不外乎\", \"不如\", \"不妨\", \"不尽\", \"不尽然\", \"不得\", \"不怕\", \"不惟\", \"不成\", \"不拘\", \"不料\", \"不是\", \"不比\", \"不然\", \"不特\", \"不独\", \"不管\", \"不至于\", \"不若\", \"不论\", \"不过\", \"不问\", \"与\", \"与其\", \"与其说\", \"与否\", \"与此同时\", \"且\", \"且不说\", \"且说\", \"两者\", \"个\", \"个别\", \"中\", \"临\", \"为\", \"为了\", \"为什么\", \"为何\", \"为止\", \"为此\", \"为着\", \"乃\", \"乃至\", \"乃至于\", \"么\", \"之\", \"之一\", \"之所以\", \"之类\", \"乌乎\", \"乎\", \"乘\", \"九\", \"也\", \"也好\", \"也罢\", \"了\", \"二\", \"二来\", \"于\", \"于是\", \"于是乎\", \"云云\", \"云尔\", \"五\", \"些\", \"亦\", \"人\", \"人们\", \"人家\", \"什\", \"什么\", \"什么样\", \"今\", \"介于\", \"仍\", \"仍旧\", \"从\", \"从此\", \"从而\", \"他\", \"他人\", \"他们\", \"他们们\", \"以\", \"以上\", \"以为\", \"以便\", \"以免\", \"以及\", \"以故\", \"以期\", \"以来\", \"以至\", \"以至于\", \"以致\", \"们\", \"任\", \"任何\", \"任凭\", \"会\", \"似的\", \"但\", \"但凡\", \"但是\", \"何\", \"何以\", \"何况\", \"何处\", \"何时\", \"余外\", \"作为\", \"你\", \"你们\", \"使\", \"使得\", \"例如\", \"依\", \"依据\", \"依照\", \"便于\", \"俺\", \"俺们\", \"倘\", \"倘使\", \"倘或\", \"倘然\", \"倘若\", \"借\", \"借傥然\", \"假使\", \"假如\", \"假若\", \"做\", \"像\", \"儿\", \"先不先\", \"光\", \"光是\", \"全体\", \"全部\", \"八\", \"六\", \"兮\", \"共\", \"关于\", \"关于具体地说\", \"其\", \"其一\", \"其中\", \"其二\", \"其他\", \"其余\", \"其它\", \"其次\", \"具体地说\", \"具体说来\", \"兼之\", \"内\", \"再\", \"再其次\", \"再则\", \"再有\", \"再者\", \"再者说\", \"再说\", \"冒\", \"冲\", \"况且\", \"几\", \"几时\", \"凡\", \"凡是\", \"凭\", \"凭借\", \"出于\", \"出来\", \"分\", \"分别\", \"则\", \"则甚\", \"别\", \"别人\", \"别处\", \"别是\", \"别的\", \"别管\", \"别说\", \"到\", \"前后\", \"前此\", \"前者\", \"加之\", \"加以\", \"区\", \"即\", \"即令\", \"即使\", \"即便\", \"即如\", \"即或\", \"即若\", \"却\", \"去\", \"又\", \"又及\", \"及\", \"及其\", \"及至\", \"反之\", \"反而\", \"反过来\", \"反过来说\", \"受到\", \"另\", \"另一方面\", \"另外\", \"另悉\", \"只\", \"只当\", \"只怕\", \"只是\", \"只有\", \"只消\", \"只要\", \"只限\", \"叫\", \"叮咚\", \"可\", \"可以\", \"可是\", \"可见\", \"各\", \"各个\", \"各位\", \"各种\", \"各自\", \"同\", \"同时\", \"后\", \"后者\", \"向\", \"向使\", \"向着\", \"吓\", \"吗\", \"否则\", \"吧\", \"吧哒\", \"含\", \"吱\", \"呀\", \"呃\", \"呕\", \"呗\", \"呜\", \"呜呼\", \"呢\", \"呵\", \"呵呵\", \"呸\", \"呼哧\", \"咋\", \"和\", \"咚\", \"咦\", \"咧\", \"咱\", \"咱们\", \"咳\", \"哇\", \"哈\", \"哈哈\", \"哉\", \"哎\", \"哎呀\", \"哎哟\", \"哗\", \"哟\", \"哦\", \"哩\", \"哪\", \"哪个\", \"哪些\", \"哪儿\", \"哪天\", \"哪年\", \"哪怕\", \"哪样\", \"哪边\", \"哪里\", \"哼\", \"哼唷\", \"唉\", \"唯有\", \"啊\", \"啐\", \"啥\", \"啦\", \"啪达\", \"啷当\", \"喂\", \"喏\", \"喔唷\", \"喽\", \"嗡\", \"嗡嗡\", \"嗬\", \"嗯\", \"嗳\", \"嘎\", \"嘎登\", \"嘘\", \"嘛\", \"嘻\", \"嘿\", \"嘿嘿\", \"四\", \"因\", \"因为\", \"因了\", \"因此\", \"因着\", \"因而\", \"固然\", \"在\", \"在下\", \"在于\", \"地\", \"基于\", \"处在\", \"多\", \"多么\", \"多少\", \"大\", \"大家\", \"她\", \"她们\", \"好\", \"如\", \"如上\", \"如上所述\", \"如下\", \"如何\", \"如其\", \"如同\", \"如是\", \"如果\", \"如此\", \"如若\", \"始而\", \"孰料\", \"孰知\", \"宁\", \"宁可\", \"宁愿\", \"宁肯\", \"它\", \"它们\", \"对\", \"对于\", \"对待\", \"对方\", \"对比\", \"将\", \"小\", \"尔\", \"尔后\", \"尔尔\", \"尚且\", \"就\", \"就是\", \"就是了\", \"就是说\", \"就算\", \"就要\", \"尽\", \"尽管\", \"尽管如此\", \"岂但\", \"己\", \"已\", \"已矣\", \"巴\", \"巴巴\", \"年\", \"并\", \"并且\", \"庶乎\", \"庶几\", \"开外\", \"开始\", \"归\", \"归齐\", \"当\", \"当地\", \"当然\", \"当着\", \"彼\", \"彼时\", \"彼此\", \"往\", \"待\", \"很\", \"得\", \"得了\", \"怎\", \"怎么\", \"怎么办\", \"怎么样\", \"怎奈\", \"怎样\", \"总之\", \"总的来看\", \"总的来说\", \"总的说来\", \"总而言之\", \"恰恰相反\", \"您\", \"惟其\", \"慢说\", \"我\", \"我们\", \"或\", \"或则\", \"或是\", \"或曰\", \"或者\", \"截至\", \"所\", \"所以\", \"所在\", \"所幸\", \"所有\", \"才\", \"才能\", \"打\", \"打从\", \"把\", \"抑或\", \"拿\", \"按\", \"按照\", \"换句话说\", \"换言之\", \"据\", \"据此\", \"接着\", \"故\", \"故此\", \"故而\", \"旁人\", \"无\", \"无宁\", \"无论\", \"既\", \"既往\", \"既是\", \"既然\", \"日\", \"时\", \"时候\", \"是\", \"是以\", \"是的\", \"更\", \"曾\", \"替\", \"替代\", \"最\", \"月\", \"有\", \"有些\", \"有关\", \"有及\", \"有时\", \"有的\", \"望\", \"朝\", \"朝着\", \"本\", \"本人\", \"本地\", \"本着\", \"本身\", \"来\", \"来着\", \"来自\", \"来说\", \"极了\", \"果然\", \"果真\", \"某\", \"某个\", \"某些\", \"某某\", \"根据\", \"欤\", \"正值\", \"正如\", \"正巧\", \"正是\", \"此\", \"此地\", \"此处\", \"此外\", \"此时\", \"此次\", \"此间\", \"毋宁\", \"每\", \"每当\", \"比\", \"比及\", \"比如\", \"比方\", \"没奈何\", \"沿\", \"沿着\", \"漫说\", \"点\", \"焉\", \"然则\", \"然后\", \"然而\", \"照\", \"照着\", \"犹且\", \"犹自\", \"甚且\", \"甚么\", \"甚或\", \"甚而\", \"甚至\", \"甚至于\", \"用\", \"用来\", \"由\", \"由于\", \"由是\", \"由此\", \"由此可见\", \"的\", \"的确\", \"的话\", \"直到\", \"相对而言\", \"省得\", \"看\", \"眨眼\", \"着\", \"着呢\", \"矣\", \"矣乎\", \"矣哉\", \"离\", \"秒\", \"称\", \"竟而\", \"第\", \"等\", \"等到\", \"等等\", \"简言之\", \"管\", \"类如\", \"紧接着\", \"纵\", \"纵令\", \"纵使\", \"纵然\", \"经\", \"经过\", \"结果\", \"给\", \"继之\", \"继后\", \"继而\", \"综上所述\", \"罢了\", \"者\", \"而\", \"而且\", \"而况\", \"而后\", \"而外\", \"而已\", \"而是\", \"而言\", \"能\", \"能否\", \"腾\", \"自\", \"自个儿\", \"自从\", \"自各儿\", \"自后\", \"自家\", \"自己\", \"自打\", \"自身\", \"至\", \"至于\", \"至今\", \"至若\", \"致\", \"般的\", \"若\", \"若夫\", \"若是\", \"若果\", \"若非\", \"莫不然\", \"莫如\", \"莫若\", \"虽\", \"虽则\", \"虽然\", \"虽说\", \"被\", \"要\", \"要不\", \"要不是\", \"要不然\", \"要么\", \"要是\", \"譬喻\", \"譬如\", \"让\", \"许多\", \"论\", \"设使\", \"设或\", \"设若\", \"诚如\", \"诚然\", \"该\", \"说\", \"说来\", \"请\", \"诸\", \"诸位\", \"诸如\", \"谁\", \"谁人\", \"谁料\", \"谁知\", \"贼死\", \"赖以\", \"赶\", \"起\", \"起见\", \"趁\", \"趁着\", \"越是\", \"距\", \"跟\", \"较\", \"较之\", \"边\", \"过\", \"还\", \"还是\", \"还有\", \"还要\", \"这\", \"这一来\", \"这个\", \"这么\", \"这么些\", \"这么样\", \"这么点儿\", \"这些\", \"这会儿\", \"这儿\", \"这就是说\", \"这时\", \"这样\", \"这次\", \"这般\", \"这边\", \"这里\", \"进而\", \"连\", \"连同\", \"逐步\", \"通过\", \"遵循\", \"遵照\", \"那\", \"那个\", \"那么\", \"那么些\", \"那么样\", \"那些\", \"那会儿\", \"那儿\", \"那时\", \"那样\", \"那般\", \"那边\", \"那里\", \"都\", \"鄙人\", \"鉴于\", \"针对\", \"阿\", \"除\", \"除了\", \"除外\", \"除开\", \"除此之外\", \"除非\", \"随\", \"随后\", \"随时\", \"随着\", \"难道说\", \"零\", \"非\", \"非但\", \"非徒\", \"非特\", \"非独\", \"靠\", \"顺\", \"顺着\", \"首先\", \"︿\", \"！\", \"＃\", \"＄\", \"％\", \"＆\", \"（\", \"）\", \"＊\", \"＋\", \"，\", \"０\", \"１\", \"２\", \"３\", \"４\", \"５\", \"６\", \"７\", \"８\", \"９\", \"：\", \"；\", \"＜\", \"＞\", \"？\", \"＠\", \"［\", \"］\", \"｛\", \"｜\", \"｝\", \"～\", \"￥\"]\n",
    ")\n",
    "stopwords = stopwords.union(set(string.punctuation))\n",
    "constraints = [\n",
    "    textattack.constraints.pre_transformation.RepeatModification(),\n",
    "    textattack.constraints.pre_transformation.StopwordModification(stopwords=stopwords)\n",
    "]\n",
    "\n",
    "search_method = textattack.search_methods.GreedyWordSwapWIR()\n",
    "# 选择BAE攻击策略\n",
    "attack = textattack.attack_recipes.BAEGarg2019(goal_function, constraints, transformation, search_method)\n",
    "attack_args = textattack.AttackArgs(num_examples=10, log_to_csv='bae-bert-chinese.csv',)\n",
    "# 开始攻击\n",
    "attacker = textattack.Attacker(attack, dataset, attack_args)\n",
    "attack_results = attacker.attack_dataset()"
   ]
  },
  {
   "cell_type": "code",
   "execution_count": null,
   "id": "5bac1faf",
   "metadata": {},
   "outputs": [],
   "source": []
  }
 ],
 "metadata": {
  "kernelspec": {
   "display_name": "Python 3 (ipykernel)",
   "language": "python",
   "name": "python3"
  },
  "language_info": {
   "codemirror_mode": {
    "name": "ipython",
    "version": 3
   },
   "file_extension": ".py",
   "mimetype": "text/x-python",
   "name": "python",
   "nbconvert_exporter": "python",
   "pygments_lexer": "ipython3",
   "version": "3.9.12"
  }
 },
 "nbformat": 4,
 "nbformat_minor": 5
}
