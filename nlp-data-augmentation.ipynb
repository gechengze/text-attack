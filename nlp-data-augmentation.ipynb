{
 "cells": [
  {
   "cell_type": "code",
   "execution_count": 1,
   "id": "135b4398",
   "metadata": {},
   "outputs": [
    {
     "name": "stderr",
     "output_type": "stream",
     "text": [
      "/home/gechengze/anaconda3/envs/TextAttack/lib/python3.9/site-packages/tqdm/auto.py:22: TqdmWarning: IProgress not found. Please update jupyter and ipywidgets. See https://ipywidgets.readthedocs.io/en/stable/user_install.html\n",
      "  from .autonotebook import tqdm as notebook_tqdm\n"
     ]
    }
   ],
   "source": [
    "from textattack.transformations import WordSwapRandomCharacterDeletion\n",
    "from textattack.transformations import WordSwapQWERTY\n",
    "from textattack.transformations import CompositeTransformation\n",
    "from textattack.constraints.pre_transformation import RepeatModification\n",
    "from textattack.constraints.pre_transformation import StopwordModification\n",
    "from textattack.augmentation import Augmenter"
   ]
  },
  {
   "cell_type": "code",
   "execution_count": 2,
   "id": "75234950",
   "metadata": {},
   "outputs": [
    {
     "data": {
      "text/plain": [
       "['I ike big data secuity.',\n",
       " 'I ike ig data security.',\n",
       " 'I lie big dat security.',\n",
       " 'I like big daha qecurity.',\n",
       " 'I like bit cata security.',\n",
       " 'I like bug data secirity.',\n",
       " 'I like bug data securit.',\n",
       " 'I like vig data sdcurity.',\n",
       " 'I lkke big data securigy.',\n",
       " 'I lkke big data securty.']"
      ]
     },
     "execution_count": 2,
     "metadata": {},
     "output_type": "execute_result"
    }
   ],
   "source": [
    "# 使用随机swap、添加、删除等算子，以及键盘上的QWER等相邻错误输入的算子\n",
    "transformation = CompositeTransformation([WordSwapRandomCharacterDeletion(), WordSwapQWERTY()])\n",
    "constraints = [RepeatModification(), StopwordModification()]\n",
    "# 创建augmenter\n",
    "augmenter = Augmenter(transformation=transformation, constraints=constraints, pct_words_to_swap=0.5, transformations_per_example=10)\n",
    "s = 'I like big data security.'\n",
    "# 输出结果\n",
    "augmenter.augment(s)"
   ]
  },
  {
   "cell_type": "code",
   "execution_count": 3,
   "id": "8628801c",
   "metadata": {},
   "outputs": [
    {
     "name": "stdout",
     "output_type": "stream",
     "text": [
      "2022-06-15 23:58:23,077 loading file /home/gechengze/.flair/models/ner-english/4f4cdab26f24cb98b732b389e6cebc646c36f54cfd6e0b7d3b90b25656e4262f.8baa8ae8795f4df80b28e7f7b61d788ecbb057d1dc85aacb316f1bd02837a4a4\n",
      "2022-06-15 23:58:24,317 SequenceTagger predicts: Dictionary with 20 tags: <unk>, O, S-ORG, S-MISC, B-PER, E-PER, S-LOC, B-ORG, E-ORG, I-PER, S-PER, B-MISC, I-MISC, E-MISC, I-ORG, B-LOC, E-LOC, I-LOC, <START>, <STOP>\n"
     ]
    },
    {
     "data": {
      "text/plain": [
       "['I would love to go to Japan but the tickets are 36 dollars',\n",
       " 'I would love to go to Japan but the tickets are 500 dollars',\n",
       " \"I'd love to go to Comoros but the tickets are 386 dollars\",\n",
       " \"I'd love to go to Luxembourg but the tickets are 824 dollars\",\n",
       " \"I'd love to go to Northern Mariana Islands but the tickets are 230 dollars\"]"
      ]
     },
     "execution_count": 3,
     "metadata": {},
     "output_type": "execute_result"
    }
   ],
   "source": [
    "# 使用框架内置的CheckListAugmenter进行数据增强\n",
    "from textattack.augmentation import CheckListAugmenter\n",
    "augmenter = CheckListAugmenter(pct_words_to_swap=0.2, transformations_per_example=5)\n",
    "s = \"I'd love to go to Japan but the tickets are 500 dollars\"\n",
    "augmenter.augment(s)"
   ]
  },
  {
   "cell_type": "code",
   "execution_count": null,
   "id": "488cd977",
   "metadata": {},
   "outputs": [],
   "source": []
  }
 ],
 "metadata": {
  "kernelspec": {
   "display_name": "Python 3 (ipykernel)",
   "language": "python",
   "name": "python3"
  },
  "language_info": {
   "codemirror_mode": {
    "name": "ipython",
    "version": 3
   },
   "file_extension": ".py",
   "mimetype": "text/x-python",
   "name": "python",
   "nbconvert_exporter": "python",
   "pygments_lexer": "ipython3",
   "version": "3.9.12"
  }
 },
 "nbformat": 4,
 "nbformat_minor": 5
}
